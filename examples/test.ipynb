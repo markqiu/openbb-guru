{
 "cells": [
  {
   "cell_type": "code",
   "id": "initial_id",
   "metadata": {
    "collapsed": true
   },
   "source": [
    "from openbb import obb\n",
    "\n",
    "obb.guru.get_senate_trading\n",
    "\n",
    "# Get the price of a stock\n",
    "quote_data = obb.equity.price.quote(symbol=\"AAPL\", provider=\"yfinance\")\n",
    "quote_data"
   ],
   "outputs": [],
   "execution_count": null
  },
  {
   "metadata": {
    "ExecuteTime": {
     "end_time": "2024-10-14T13:46:37.864223Z",
     "start_time": "2024-10-14T13:46:37.835505Z"
    }
   },
   "cell_type": "code",
   "source": "quote_data.to_df()",
   "id": "210676415a0c8216",
   "outputs": [
    {
     "data": {
      "text/plain": [
       "  symbol asset_type        name exchange    bid  bid_size     ask  ask_size  \\\n",
       "0   AAPL     EQUITY  Apple Inc.      NMS  230.9       300  231.04       300   \n",
       "\n",
       "   last_price   open  ...    low   volume  prev_close  year_high  year_low  \\\n",
       "0      231.03  228.7  ...  228.6  4871019      227.55     237.23    164.08   \n",
       "\n",
       "     ma_50d   ma_200d  volume_average  volume_average_10d  currency  \n",
       "0  223.4378  198.7546      52131056.0          38680050.0       USD  \n",
       "\n",
       "[1 rows x 21 columns]"
      ],
      "text/html": [
       "<div>\n",
       "<style scoped>\n",
       "    .dataframe tbody tr th:only-of-type {\n",
       "        vertical-align: middle;\n",
       "    }\n",
       "\n",
       "    .dataframe tbody tr th {\n",
       "        vertical-align: top;\n",
       "    }\n",
       "\n",
       "    .dataframe thead th {\n",
       "        text-align: right;\n",
       "    }\n",
       "</style>\n",
       "<table border=\"1\" class=\"dataframe\">\n",
       "  <thead>\n",
       "    <tr style=\"text-align: right;\">\n",
       "      <th></th>\n",
       "      <th>symbol</th>\n",
       "      <th>asset_type</th>\n",
       "      <th>name</th>\n",
       "      <th>exchange</th>\n",
       "      <th>bid</th>\n",
       "      <th>bid_size</th>\n",
       "      <th>ask</th>\n",
       "      <th>ask_size</th>\n",
       "      <th>last_price</th>\n",
       "      <th>open</th>\n",
       "      <th>...</th>\n",
       "      <th>low</th>\n",
       "      <th>volume</th>\n",
       "      <th>prev_close</th>\n",
       "      <th>year_high</th>\n",
       "      <th>year_low</th>\n",
       "      <th>ma_50d</th>\n",
       "      <th>ma_200d</th>\n",
       "      <th>volume_average</th>\n",
       "      <th>volume_average_10d</th>\n",
       "      <th>currency</th>\n",
       "    </tr>\n",
       "  </thead>\n",
       "  <tbody>\n",
       "    <tr>\n",
       "      <th>0</th>\n",
       "      <td>AAPL</td>\n",
       "      <td>EQUITY</td>\n",
       "      <td>Apple Inc.</td>\n",
       "      <td>NMS</td>\n",
       "      <td>230.9</td>\n",
       "      <td>300</td>\n",
       "      <td>231.04</td>\n",
       "      <td>300</td>\n",
       "      <td>231.03</td>\n",
       "      <td>228.7</td>\n",
       "      <td>...</td>\n",
       "      <td>228.6</td>\n",
       "      <td>4871019</td>\n",
       "      <td>227.55</td>\n",
       "      <td>237.23</td>\n",
       "      <td>164.08</td>\n",
       "      <td>223.4378</td>\n",
       "      <td>198.7546</td>\n",
       "      <td>52131056.0</td>\n",
       "      <td>38680050.0</td>\n",
       "      <td>USD</td>\n",
       "    </tr>\n",
       "  </tbody>\n",
       "</table>\n",
       "<p>1 rows × 21 columns</p>\n",
       "</div>"
      ]
     },
     "execution_count": 2,
     "metadata": {},
     "output_type": "execute_result"
    }
   ],
   "execution_count": 2
  }
 ],
 "metadata": {
  "kernelspec": {
   "display_name": "Python 3",
   "language": "python",
   "name": "python3"
  },
  "language_info": {
   "codemirror_mode": {
    "name": "ipython",
    "version": 2
   },
   "file_extension": ".py",
   "mimetype": "text/x-python",
   "name": "python",
   "nbconvert_exporter": "python",
   "pygments_lexer": "ipython2",
   "version": "2.7.6"
  }
 },
 "nbformat": 4,
 "nbformat_minor": 5
}
